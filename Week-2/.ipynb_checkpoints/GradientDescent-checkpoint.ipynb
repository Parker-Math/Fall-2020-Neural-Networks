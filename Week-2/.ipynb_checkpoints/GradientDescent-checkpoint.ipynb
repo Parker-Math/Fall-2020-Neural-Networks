{
 "cells": [
  {
   "cell_type": "code",
   "execution_count": 228,
   "metadata": {},
   "outputs": [],
   "source": [
    "import math\n",
    "import numpy"
   ]
  },
  {
   "cell_type": "code",
   "execution_count": 229,
   "metadata": {},
   "outputs": [],
   "source": [
    "def computeGradient(f, x, h):\n",
    "    n = len(x)\n",
    "    gradient = numpy.zeros(n)\n",
    "    \n",
    "    for counter in range(n):\n",
    "        xDown = x.copy()\n",
    "        xDown[counter] -= h\n",
    "        xUp = x.copy()\n",
    "        xUp[counter] += h\n",
    "        gradient[counter] = (f(xUp) - f(xDown))/(2.0*h)\n",
    "        #gradient[counter] = (f(xUp) - f(x))/h\n",
    "            \n",
    "    return gradient\n",
    "\n",
    "def gradientDescent(f, x0, h, tolerance, maxIterations):\n",
    "    # Set x equal to the initial guess\n",
    "    x = x0\n",
    "        \n",
    "    # Calculate approximate gradient with denominator 2h\n",
    "    gradient = computeGradient(f, x, h)\n",
    "        \n",
    "    for counter in range(maxIterations):\n",
    "        x -= h*gradient\n",
    "        \n",
    "        # Update gradient\n",
    "        gradient = computeGradient(f, x, h)\n",
    "        \n",
    "        if numpy.linalg.norm(gradient) < tolerance:\n",
    "            # print(counter)\n",
    "            return x\n",
    "        \n",
    "        elif counter == maxIterations-1:\n",
    "            print(\"gradient descent failed\")\n",
    "            return x"
   ]
  },
  {
   "cell_type": "code",
   "execution_count": null,
   "metadata": {},
   "outputs": [],
   "source": []
  },
  {
   "cell_type": "code",
   "execution_count": null,
   "metadata": {},
   "outputs": [],
   "source": []
  }
 ],
 "metadata": {
  "kernelspec": {
   "display_name": "Python 3",
   "language": "python",
   "name": "python3"
  },
  "language_info": {
   "codemirror_mode": {
    "name": "ipython",
    "version": 3
   },
   "file_extension": ".py",
   "mimetype": "text/x-python",
   "name": "python",
   "nbconvert_exporter": "python",
   "pygments_lexer": "ipython3",
   "version": "3.7.6"
  }
 },
 "nbformat": 4,
 "nbformat_minor": 4
}
