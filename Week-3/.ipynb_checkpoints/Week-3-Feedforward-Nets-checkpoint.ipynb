{
 "cells": [
  {
   "cell_type": "markdown",
   "metadata": {},
   "source": [
    "# Feedforward Neural Networks\n",
    "\n",
    "This week, we will introduce (artificial) neural networks, which are machine learning methods that draw inspiration from biological nervous systems where huge numbers of interconnected neurons (nerve cells) send electricalchemical signals, frequently in response to external stimuli, to one another throughout the body and within the brain.\n",
    "\n",
    "Neural networks excel at machine learning tasks when large amounts of data is available (thousands of datapoints). We will, for now, focus on the applications of neural networks to classification and regression problems.\n",
    "\n",
    "This week's notes will be mostly dedicated sharing my code with you because we will primarily be studying from <a href=\"http://neuralnetworksanddeeplearning.com/\">*Neural Networks and Deep Learning*</a> by Michael Nielsen. This <a href=\"https://www.youtube.com/playlist?list=PLZHQObOWTQDNU6R1_67000Dx_ZCJB-3pi\">playlist of YouTube videos</a> is based on Nielsen's book and is pretty amazing for explaining this content as well. I cannot recommend it enough!\n",
    "\n",
    "<a href=\"https://github.com/mnielsen/neural-networks-and-deep-learning\">Nielsen's code</a> is written in Python 2.7, so I would not recommend using his code, but Michal Daniel Dobrzanski provides <a href=\"https://github.com/MichalDanielDobrzanski/DeepLearningPython35\">updated code</a> in Python 3.5."
   ]
  },
  {
   "cell_type": "code",
   "execution_count": 1,
   "metadata": {},
   "outputs": [],
   "source": [
    "import numpy as np"
   ]
  },
  {
   "cell_type": "code",
   "execution_count": 13,
   "metadata": {},
   "outputs": [],
   "source": [
    "class FeedforwardNeuralNetwork:\n",
    "    \n",
    "    def __init__(self, layers, alpha):\n",
    "        \n",
    "        # list of weight matrices\n",
    "        self.W = []\n",
    "        \n",
    "        # network architecture will be a vector of numbers of nodes for each layer\n",
    "        self.layers = layers\n",
    "        \n",
    "        # learning rate\n",
    "        self.alpha = alpha\n",
    "        \n",
    "        # initialize the weights (randomly) -- this is our initial guess for gradient descent\n",
    "        \n",
    "        # initialize the weights between layers (up to the next-to-last one) as normal random variables\n",
    "        for counter in range(len(layers) - 2):\n",
    "            self.W.append(np.random.randn(layers[i] + 1, layers[i+1] + 1))\n",
    "            \n",
    "        # initialize weights between the last two layers (we don't want bias for the last one)\n",
    "        self.W.append(np.random.randn(layers[-2] + 1), layers[-1])\n",
    "        \n",
    "    # define the sigmoid activation\n",
    "    def sigmoid(self, x):\n",
    "        return 1.0 / (1 + np.exp(-x))\n",
    "    \n",
    "    # define the derivative of a sigmoid activation\n",
    "    def sigmoidDerivative(self, x):\n",
    "        return sigmoid(x) * (1 - sigmoid(x))\n",
    "    \n",
    "    # feedforward\n",
    "    def feedforward(self, X, y):\n",
    "        for layer in range(len(self.W)):\n",
    "            # feed!\n",
    "            1+1\n",
    "            \n",
    "    # backprop\n",
    "    def backpropagation(self, X, y):\n",
    "        # do a thing\n",
    "        1+1\n",
    "    \n",
    "    # fit the model\n",
    "    def fit(self, X, y, epochs = 1000, displayUpdate = 100):\n",
    "        \n",
    "        for epoch in range(epochs):\n",
    "            # feedforward\n",
    "            1+1\n",
    "            \n",
    "            # backprop\n",
    "            1+1\n",
    "            \n",
    "            # weight update\n",
    "            1+1"
   ]
  },
  {
   "cell_type": "code",
   "execution_count": null,
   "metadata": {},
   "outputs": [],
   "source": []
  }
 ],
 "metadata": {
  "kernelspec": {
   "display_name": "Python 3.7 (DL)",
   "language": "python",
   "name": "dl"
  },
  "language_info": {
   "codemirror_mode": {
    "name": "ipython",
    "version": 3
   },
   "file_extension": ".py",
   "mimetype": "text/x-python",
   "name": "python",
   "nbconvert_exporter": "python",
   "pygments_lexer": "ipython3",
   "version": "3.7.7"
  }
 },
 "nbformat": 4,
 "nbformat_minor": 4
}
