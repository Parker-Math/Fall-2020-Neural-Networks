{
 "cells": [
  {
   "cell_type": "markdown",
   "metadata": {},
   "source": [
    "# Feedforward Neural Networks\n",
    "\n",
    "This week, we will introduce (artificial) neural networks, which are machine learning methods that draw inspiration from biological nervous systems where huge numbers of interconnected neurons (nerve cells) send electricalchemical signals, frequently in response to external stimuli, to one another throughout the body and within the brain.\n",
    "\n",
    "Neural networks excel at machine learning tasks when large amounts of data is available (thousands of datapoints). We will, for now, focus on the applications of neural networks to classification and regression problems.\n",
    "\n",
    "This week's notes will be mostly dedicated sharing my code with you because we will primarily be studying from <a href=\"http://neuralnetworksanddeeplearning.com/\">*Neural Networks and Deep Learning*</a> by Michael Nielsen. This <a href=\"https://www.youtube.com/playlist?list=PLZHQObOWTQDNU6R1_67000Dx_ZCJB-3pi\">playlist of YouTube videos</a> is based on Nielsen's book and is pretty amazing for explaining this content as well. I cannot recommend it enough!\n",
    "\n",
    "<a href=\"https://github.com/mnielsen/neural-networks-and-deep-learning\">Nielsen's code</a> is written in Python 2.7, so I would not recommend using his code, but Michal Daniel Dobrzanski provides <a href=\"https://github.com/MichalDanielDobrzanski/DeepLearningPython35\">updated code</a> in Python 3.5.\n",
    "\n",
    "## Perceptrons\n",
    "\n",
    "Refer to my PDF notes for details, but we will write some code for Perceptrons below. First, we import numpy."
   ]
  },
  {
   "cell_type": "code",
   "execution_count": 81,
   "metadata": {},
   "outputs": [],
   "source": [
    "import numpy as np\n",
    "import matplotlib.pyplot as plt\n",
    "from sklearn.model_selection import train_test_split\n",
    "from sklearn.metrics import classification_report"
   ]
  },
  {
   "cell_type": "code",
   "execution_count": 103,
   "metadata": {},
   "outputs": [],
   "source": [
    "class Perceptron:\n",
    "    \n",
    "    def __init__(self, N, alpha = 0.1):\n",
    "        # initialize the weights randomly and learning rate\n",
    "        self.W = np.random.randn(N + 1)\n",
    "        self.alpha = alpha\n",
    "        \n",
    "    def fit(self, X, y, epochs = 10):\n",
    "        # insert a column of 1s at the end of X\n",
    "        X = np.hstack((X, np.ones([X.shape[0], 1])))\n",
    "        \n",
    "        for epoch in range(epochs):\n",
    "            # do the dot product between w and x\n",
    "            for (x, target) in zip(X,y):\n",
    "                \n",
    "                dotProduct = np.dot(x, self.W)\n",
    "                \n",
    "                if dotProduct < 0 and target == 1:\n",
    "                    self.W += self.alpha*x\n",
    "                \n",
    "                if dotProduct >= 0 and target == 0:\n",
    "                    self.W -= self.alpha*x\n",
    "                    \n",
    "    def predict(self, X):\n",
    "        X = np.hstack((X, np.ones([X.shape[0], 1])))\n",
    "        \n",
    "        predictedY = np.zeros([X.shape[0], 1])\n",
    "        \n",
    "        for counter in range(X.shape[0]):\n",
    "            dotProduct = np.dot(X[counter,], self.W)\n",
    "            \n",
    "            if dotProduct < 0:\n",
    "                predictedY[counter] = 0\n",
    "            \n",
    "            else:\n",
    "                predictedY[counter] = 1\n",
    "                \n",
    "        return predictedY"
   ]
  },
  {
   "cell_type": "markdown",
   "metadata": {},
   "source": [
    "### Example: AND function"
   ]
  },
  {
   "cell_type": "code",
   "execution_count": 83,
   "metadata": {},
   "outputs": [
    {
     "name": "stdout",
     "output_type": "stream",
     "text": [
      "              precision    recall  f1-score   support\n",
      "\n",
      "           0       1.00      1.00      1.00         1\n",
      "           1       1.00      1.00      1.00         3\n",
      "\n",
      "    accuracy                           1.00         4\n",
      "   macro avg       1.00      1.00      1.00         4\n",
      "weighted avg       1.00      1.00      1.00         4\n",
      "\n"
     ]
    }
   ],
   "source": [
    "X = np.array([[0, 0], [0, 1], [1, 0], [1, 1]])\n",
    "y = np.array([[0], [1], [1], [1]])\n",
    "\n",
    "model = Perceptron(X.shape[1], alpha=0.1)\n",
    "model.fit(X, y, epochs=100)\n",
    "yPredicted = model.predict(X)\n",
    "\n",
    "print(classification_report(y, yPredicted))"
   ]
  },
  {
   "cell_type": "markdown",
   "metadata": {},
   "source": [
    "### Example: Random Points"
   ]
  },
  {
   "cell_type": "code",
   "execution_count": 102,
   "metadata": {},
   "outputs": [
    {
     "name": "stdout",
     "output_type": "stream",
     "text": [
      "              precision    recall  f1-score   support\n",
      "\n",
      "           0       0.88      0.81      0.85        27\n",
      "           1       0.80      0.87      0.83        23\n",
      "\n",
      "    accuracy                           0.84        50\n",
      "   macro avg       0.84      0.84      0.84        50\n",
      "weighted avg       0.84      0.84      0.84        50\n",
      "\n"
     ]
    },
    {
     "data": {
      "text/plain": [
       "[<matplotlib.lines.Line2D at 0x2c50817f408>]"
      ]
     },
     "execution_count": 102,
     "metadata": {},
     "output_type": "execute_result"
    },
    {
     "data": {
      "image/png": "[encoded data removed]",
      "text/plain": [
       "<Figure size 432x288 with 1 Axes>"
      ]
     },
     "metadata": {
      "needs_background": "light"
     },
     "output_type": "display_data"
    }
   ],
   "source": [
    "# number of points to generate\n",
    "numberOfPoints = 100\n",
    "\n",
    "# generate points from class 0\n",
    "mean1 = np.array([-1, -1])\n",
    "covariance1 = np.array([[5, 0], [0, 5]])\n",
    "X1 = np.random.multivariate_normal(mean1, covariance1, numberOfPoints)\n",
    "\n",
    "# generate points from class 1\n",
    "mean2 = np.array([3, 3])\n",
    "covariance2 = np.array([[5, 3], [3, 5]])\n",
    "X2 = np.random.multivariate_normal(mean2, covariance2, numberOfPoints)\n",
    "\n",
    "# stack the points\n",
    "X = np.vstack((X1, X2))\n",
    "\n",
    "# create a vector of the labels\n",
    "y = np.hstack((numberOfPoints * [0], numberOfPoints * [1]))\n",
    "\n",
    "# train test split\n",
    "(trainX, testX, trainY, testY) = train_test_split(X, y, test_size = 0.25, random_state = 1)\n",
    "\n",
    "# instantiate a model\n",
    "model = Perceptron(2)\n",
    "\n",
    "# fit the model to the training data\n",
    "model.fit(trainX, trainY, epochs = 1000)\n",
    "predictedY = model.predict(testX)\n",
    "\n",
    "print(classification_report(testY, predictedY))\n",
    "\n",
    "# plot the training set\n",
    "plt.scatter(trainX[:,0], trainX[:,1], c = trainY, marker = '.')\n",
    "\n",
    "parameters = model.W\n",
    "\n",
    "xModel = np.linspace(-10, 10, 100)\n",
    "yModel = -parameters[0]/parameters[1]*xModel - parameters[2]/parameters[0]\n",
    "lineFormula = '{:.3f}x_1+{:.3f}x_2+{:.3f}=0'.format(parameters[0], parameters[1], parameters[2])\n",
    "plt.plot(xModel, yModel, 'g', label = lineFormula)"
   ]
  },
  {
   "cell_type": "markdown",
   "metadata": {},
   "source": [
    "## Code for Feedforward Neural Networks\n",
    "\n",
    "Let's take it a step forward and write some code for neural networks (to be continued!)"
   ]
  },
  {
   "cell_type": "code",
   "execution_count": 13,
   "metadata": {},
   "outputs": [],
   "source": [
    "class FeedforwardNeuralNetwork:\n",
    "    \n",
    "    def __init__(self, layers, alpha):\n",
    "        \n",
    "        # list of weight matrices\n",
    "        self.W = []\n",
    "        \n",
    "        # network architecture will be a vector of numbers of nodes for each layer\n",
    "        self.layers = layers\n",
    "        \n",
    "        # learning rate\n",
    "        self.alpha = alpha\n",
    "        \n",
    "        # initialize the weights (randomly) -- this is our initial guess for gradient descent\n",
    "        \n",
    "        # initialize the weights between layers (up to the next-to-last one) as normal random variables\n",
    "        for counter in range(len(layers) - 2):\n",
    "            self.W.append(np.random.randn(layers[i] + 1, layers[i+1] + 1))\n",
    "            \n",
    "        # initialize weights between the last two layers (we don't want bias for the last one)\n",
    "        self.W.append(np.random.randn(layers[-2] + 1), layers[-1])\n",
    "        \n",
    "    # define the sigmoid activation\n",
    "    def sigmoid(self, x):\n",
    "        return 1.0 / (1 + np.exp(-x))\n",
    "    \n",
    "    # define the derivative of a sigmoid activation\n",
    "    def sigmoidDerivative(self, x):\n",
    "        return sigmoid(x) * (1 - sigmoid(x))\n",
    "    \n",
    "    # feedforward\n",
    "    def feedforward(self, X, y):\n",
    "        for layer in range(len(self.W)):\n",
    "            # feed!\n",
    "            1+1\n",
    "            \n",
    "    # backprop\n",
    "    def backpropagation(self, X, y):\n",
    "        # do a thing\n",
    "        1+1\n",
    "    \n",
    "    # fit the model\n",
    "    def fit(self, X, y, epochs = 1000, displayUpdate = 100):\n",
    "        \n",
    "        for epoch in range(epochs):\n",
    "            # feedforward\n",
    "            1+1\n",
    "            \n",
    "            # backprop\n",
    "            1+1\n",
    "            \n",
    "            # weight update\n",
    "            1+1"
   ]
  },
  {
   "cell_type": "code",
   "execution_count": null,
   "metadata": {},
   "outputs": [],
   "source": []
  }
 ],
 "metadata": {
  "kernelspec": {
   "display_name": "Python 3.7 (DL)",
   "language": "python",
   "name": "dl"
  },
  "language_info": {
   "codemirror_mode": {
    "name": "ipython",
    "version": 3
   },
   "file_extension": ".py",
   "mimetype": "text/x-python",
   "name": "python",
   "nbconvert_exporter": "python",
   "pygments_lexer": "ipython3",
   "version": "3.7.7"
  }
 },
 "nbformat": 4,
 "nbformat_minor": 4
}
